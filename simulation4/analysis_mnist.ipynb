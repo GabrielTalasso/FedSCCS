{
 "cells": [
  {
   "cell_type": "code",
   "execution_count": 2,
   "metadata": {},
   "outputs": [
    {
     "name": "stderr",
     "output_type": "stream",
     "text": [
      "2023-10-11 13:35:09.397824: W tensorflow/stream_executor/platform/default/dso_loader.cc:64] Could not load dynamic library 'libcudart.so.11.0'; dlerror: libcudart.so.11.0: cannot open shared object file: No such file or directory\n",
      "2023-10-11 13:35:09.397842: I tensorflow/stream_executor/cuda/cudart_stub.cc:29] Ignore above cudart dlerror if you do not have a GPU set up on your machine.\n"
     ]
    }
   ],
   "source": [
    "import pandas as pd\n",
    "import pickle\n",
    "import tensorflow as tf\n",
    "import numpy as np\n",
    "import matplotlib.pyplot as plt\n",
    "import seaborn as sns"
   ]
  },
  {
   "cell_type": "code",
   "execution_count": null,
   "metadata": {},
   "outputs": [],
   "source": [
    "#comparando o numero de clusters\n",
    "\n",
    "metric = 'weights'\n",
    "selection = 'All'\n",
    "n_clust = 12\n",
    "method = 'HC'\n",
    "\n",
    "files = {'FedAvg':      f'simulation3/local_logs/MNIST/CKA-(-1)-Random-All-0.5/evaluate/acc_25clients_1clusters.csv',\n",
    "         'CKA-HC':      f'simulation3/local_logs/MNIST/CKA-(-1)-HC-{selection}-0.5/evaluate/acc_25clients_{n_clust}clusters.csv',\n",
    "         'Random':      f'simulation3/local_logs/MNIST/CKA-(-1)-Random-{selection}-0.5/evaluate/acc_25clients_{n_clust}clusters.csv',\n",
    "         f'{metric}-{method}':  f'simulation3/local_logs/MNIST/{metric}-(-1)-{method}-{selection}-0.5/evaluate/acc_25clients_{n_clust}clusters.csv' }\n",
    "\n",
    "clusters = {'FedAvg':               f'/home/gabrieltalasso/FedSCCS/FedSCCS/simulation3/local_logs/MNIST/CKA-(-1)-HC-{selection}-0.5/clusters_25clients_1clusters.txt',\n",
    "            'CKA-HC':               f'/home/gabrieltalasso/FedSCCS/FedSCCS/simulation3/local_logs/MNIST/CKA-(-1)-HC-{selection}-0.5/clusters_25clients_{n_clust}clusters.txt',\n",
    "            'Random':               f'/home/gabrieltalasso/FedSCCS/FedSCCS/simulation3/local_logs/MNIST/CKA-(-1)-Random-{selection}-0.5/clusters_25clients_{n_clust}clusters.txt',\n",
    "             f'{metric}-{method}':  f'/home/gabrieltalasso/FedSCCS/FedSCCS/simulation3/local_logs/MNIST/{metric}-(-1)-{method}-{selection}-0.5/clusters_25clients_{n_clust}clusters.txt'}\n",
    "\n",
    "solucoes = ['FedAvg','CKA-HC', 'Random', f'{metric}-{method}']\n",
    "\n",
    "for sol in solucoes:\n",
    "    print(files[sol])\n",
    "\n",
    "    file = open(clusters[sol])\n",
    "    content = file.readlines()\n",
    "    if len(content) >2:\n",
    "        content[1] = content[2]+content[3] \n",
    "    c = content[1].replace('  ', ' ').replace('\\n', '').split(']')[0].replace('[ ', '').replace('[', '').replace(', ', ' ').split(' ')\n",
    "    print(c)\n",
    "\n",
    "    acc =  pd.read_csv(files[sol] , names=['rounds', 'client', 'acc', 'loss'],  on_bad_lines='skip')\n",
    "    acc['cluster'] = acc['client'].apply(lambda x: int(c[x]))\n",
    "\n",
    "    print(len(acc))\n",
    "\n",
    "    #sns.lineplot(acc.groupby(['rounds', 'cluster']).mean().reset_index().groupby('rounds').mean(), y = 'acc', x = 'rounds',\n",
    "    #               label=sol)\n",
    "    sns.lineplot(acc.groupby('rounds').mean(), y = 'acc', x = 'rounds',\n",
    "                   label=sol)\n"
   ]
  },
  {
   "cell_type": "code",
   "execution_count": null,
   "metadata": {},
   "outputs": [],
   "source": [
    "#comparando o numero de clusters\n",
    "\n",
    "metric = 'weights'\n",
    "selection = 'All'\n",
    "n_clust = 20\n",
    "method = 'HC'\n",
    "\n",
    "files = {'FedAvg':      f'local_logs/MNIST/CKA-(-1)-Random-All-0.5/evaluate/acc_50clients_1clusters.csv',\n",
    "         'CKA-HC':      f'local_logs/MNIST/CKA-(-1)-HC-{selection}-0.5/evaluate/acc_50clients_{n_clust}clusters.csv',\n",
    "         'Random':      f'local_logs/MNIST/CKA-(-1)-Random-{selection}-0.5/evaluate/acc_50clients_{n_clust}clusters.csv',\n",
    "         f'{metric}-{method}':  f'local_logs/MNIST/{metric}-(-1)-{method}-{selection}-0.5/evaluate/acc_50clients_{n_clust}clusters.csv' }\n",
    "\n",
    "solucoes = ['FedAvg','CKA-HC', 'Random', f'{metric}-{method}']\n",
    "\n",
    "clusters = {'FedAvg':               f'/home/gabrieltalasso/FedSCCS/FedSCCS/local_logs/MNIST/CKA-(-1)-HC-{selection}-0.5/clusters_50clients_1clusters.txt',\n",
    "            'CKA-HC':               f'/home/gabrieltalasso/FedSCCS/FedSCCS/local_logs/MNIST/CKA-(-1)-HC-{selection}-0.5/clusters_50clients_{n_clust}clusters.txt',\n",
    "            'Random':               f'/home/gabrieltalasso/FedSCCS/FedSCCS/local_logs/MNIST/CKA-(-1)-Random-{selection}-0.5/clusters_50clients_{n_clust}clusters.txt',\n",
    "             f'{metric}-{method}':  f'/home/gabrieltalasso/FedSCCS/FedSCCS/local_logs/MNIST/{metric}-(-1)-{method}-{selection}-0.5/clusters_50clients_{n_clust}clusters.txt'}\n",
    "\n",
    "for sol in solucoes:\n",
    "    print(files[sol])\n",
    "\n",
    "    file = open(clusters[sol])\n",
    "    content = file.readlines()\n",
    "    if len(content) == 4:\n",
    "        content[1] = content[2]+content[3]\n",
    "    if len(content) == 6:\n",
    "        content[1] = content[3]+content[4]+content[4]\n",
    "\n",
    "    c = content[1].replace('  ', ' ').replace('\\n', '').split(']')[0].replace('[ ', '').replace('[', '').replace(', ', ' ').split(' ')\n",
    "    print(c)\n",
    "\n",
    "    acc =  pd.read_csv(files[sol] , names=['rounds', 'client', 'acc', 'loss'],  on_bad_lines='skip')\n",
    "    acc['cluster'] = acc['client'].apply(lambda x: int(c[x]))\n",
    "\n",
    "    print(len(acc))\n",
    "\n",
    "    #sns.lineplot(acc.groupby(['rounds', 'cluster']).mean().reset_index().groupby('rounds').mean(), y = 'acc', x = 'rounds',\n",
    "    #               label=sol)\n",
    "\n",
    "    sns.lineplot(acc.groupby('rounds').mean(), y = 'acc', x = 'rounds',\n",
    "                   label=sol)"
   ]
  },
  {
   "cell_type": "code",
   "execution_count": null,
   "metadata": {},
   "outputs": [],
   "source": []
  }
 ],
 "metadata": {
  "kernelspec": {
   "display_name": "Python 3",
   "language": "python",
   "name": "python3"
  },
  "language_info": {
   "codemirror_mode": {
    "name": "ipython",
    "version": 3
   },
   "file_extension": ".py",
   "mimetype": "text/x-python",
   "name": "python",
   "nbconvert_exporter": "python",
   "pygments_lexer": "ipython3",
   "version": "3.8.10"
  },
  "orig_nbformat": 4
 },
 "nbformat": 4,
 "nbformat_minor": 2
}
